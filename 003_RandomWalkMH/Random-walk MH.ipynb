{
 "cells": [
  {
   "cell_type": "code",
   "execution_count": 1,
   "metadata": {
    "collapsed": false
   },
   "outputs": [
    {
     "data": {
      "text/html": [
       "<?xml version=\"1.0\" encoding=\"utf-8\"?>\n",
       "<svg xmlns=\"http://www.w3.org/2000/svg\" xmlns:xlink=\"http://www.w3.org/1999/xlink\" width=\"600\" height=\"400\" viewBox=\"0 0 600 400\">\n",
       "<defs>\n",
       "  <clipPath id=\"clip00\">\n",
       "    <rect x=\"0\" y=\"0\" width=\"600\" height=\"400\"/>\n",
       "  </clipPath>\n",
       "</defs>\n",
       "<polygon clip-path=\"url(#clip7600)\" points=\"\n",
       "0,400 600,400 600,0 0,0 \n",
       "  \" fill=\"#ffffff\" fill-opacity=\"1\"/>\n",
       "<defs>\n",
       "  <clipPath id=\"clip01\">\n",
       "    <rect x=\"120\" y=\"0\" width=\"421\" height=\"400\"/>\n",
       "  </clipPath>\n",
       "</defs>\n",
       "<polygon clip-path=\"url(#clip7600)\" points=\"\n",
       "42.1066,375.813 580.315,375.813 580.315,31.4961 42.1066,31.4961 \n",
       "  \" fill=\"#ffffff\" fill-opacity=\"1\"/>\n",
       "<defs>\n",
       "  <clipPath id=\"clip02\">\n",
       "    <rect x=\"42\" y=\"31\" width=\"539\" height=\"345\"/>\n",
       "  </clipPath>\n",
       "</defs>\n",
       "<polyline clip-path=\"url(#clip7602)\" style=\"stroke:#000000; stroke-width:0.5; stroke-opacity:0.1; fill:none\" points=\"\n",
       "  144.381,370.649 144.381,36.6608 \n",
       "  \"/>\n",
       "<polyline clip-path=\"url(#clip7602)\" style=\"stroke:#000000; stroke-width:0.5; stroke-opacity:0.1; fill:none\" points=\"\n",
       "  289.45,370.649 289.45,36.6608 \n",
       "  \"/>\n",
       "<polyline clip-path=\"url(#clip7602)\" style=\"stroke:#000000; stroke-width:0.5; stroke-opacity:0.1; fill:none\" points=\"\n",
       "  434.52,370.649 434.52,36.6608 \n",
       "  \"/>\n",
       "<polyline clip-path=\"url(#clip7602)\" style=\"stroke:#000000; stroke-width:0.5; stroke-opacity:0.1; fill:none\" points=\"\n",
       "  579.59,370.649 579.59,36.6608 \n",
       "  \"/>\n",
       "<polyline clip-path=\"url(#clip7602)\" style=\"stroke:#000000; stroke-width:0.5; stroke-opacity:0.1; fill:none\" points=\"\n",
       "  50.1797,367.138 572.242,367.138 \n",
       "  \"/>\n",
       "<polyline clip-path=\"url(#clip7602)\" style=\"stroke:#000000; stroke-width:0.5; stroke-opacity:0.1; fill:none\" points=\"\n",
       "  50.1797,295.826 572.242,295.826 \n",
       "  \"/>\n",
       "<polyline clip-path=\"url(#clip7602)\" style=\"stroke:#000000; stroke-width:0.5; stroke-opacity:0.1; fill:none\" points=\"\n",
       "  50.1797,224.514 572.242,224.514 \n",
       "  \"/>\n",
       "<polyline clip-path=\"url(#clip7602)\" style=\"stroke:#000000; stroke-width:0.5; stroke-opacity:0.1; fill:none\" points=\"\n",
       "  50.1797,153.201 572.242,153.201 \n",
       "  \"/>\n",
       "<polyline clip-path=\"url(#clip7602)\" style=\"stroke:#000000; stroke-width:0.5; stroke-opacity:0.1; fill:none\" points=\"\n",
       "  50.1797,81.8889 572.242,81.8889 \n",
       "  \"/>\n",
       "<polyline clip-path=\"url(#clip7600)\" style=\"stroke:#000000; stroke-width:1; stroke-opacity:1; fill:none\" points=\"\n",
       "  42.1066,375.813 580.315,375.813 \n",
       "  \"/>\n",
       "<polyline clip-path=\"url(#clip7600)\" style=\"stroke:#000000; stroke-width:1; stroke-opacity:1; fill:none\" points=\"\n",
       "  42.1066,375.813 42.1066,31.4961 \n",
       "  \"/>\n",
       "<polyline clip-path=\"url(#clip7600)\" style=\"stroke:#000000; stroke-width:1; stroke-opacity:1; fill:none\" points=\"\n",
       "  144.381,375.813 144.381,370.649 \n",
       "  \"/>\n",
       "<polyline clip-path=\"url(#clip7600)\" style=\"stroke:#000000; stroke-width:1; stroke-opacity:1; fill:none\" points=\"\n",
       "  289.45,375.813 289.45,370.649 \n",
       "  \"/>\n",
       "<polyline clip-path=\"url(#clip7600)\" style=\"stroke:#000000; stroke-width:1; stroke-opacity:1; fill:none\" points=\"\n",
       "  434.52,375.813 434.52,370.649 \n",
       "  \"/>\n",
       "<polyline clip-path=\"url(#clip7600)\" style=\"stroke:#000000; stroke-width:1; stroke-opacity:1; fill:none\" points=\"\n",
       "  579.59,375.813 579.59,370.649 \n",
       "  \"/>\n",
       "<polyline clip-path=\"url(#clip7600)\" style=\"stroke:#000000; stroke-width:1; stroke-opacity:1; fill:none\" points=\"\n",
       "  42.1066,367.138 50.1797,367.138 \n",
       "  \"/>\n",
       "<polyline clip-path=\"url(#clip7600)\" style=\"stroke:#000000; stroke-width:1; stroke-opacity:1; fill:none\" points=\"\n",
       "  42.1066,295.826 50.1797,295.826 \n",
       "  \"/>\n",
       "<polyline clip-path=\"url(#clip7600)\" style=\"stroke:#000000; stroke-width:1; stroke-opacity:1; fill:none\" points=\"\n",
       "  42.1066,224.514 50.1797,224.514 \n",
       "  \"/>\n",
       "<polyline clip-path=\"url(#clip7600)\" style=\"stroke:#000000; stroke-width:1; stroke-opacity:1; fill:none\" points=\"\n",
       "  42.1066,153.201 50.1797,153.201 \n",
       "  \"/>\n",
       "<polyline clip-path=\"url(#clip7600)\" style=\"stroke:#000000; stroke-width:1; stroke-opacity:1; fill:none\" points=\"\n",
       "  42.1066,81.8889 50.1797,81.8889 \n",
       "  \"/>\n",
       "<g clip-path=\"url(#clip7600)\">\n",
       "<text style=\"fill:#000000; fill-opacity:1; font-family:Arial,Helvetica Neue,Helvetica,sans-serif; font-size:12; text-anchor:middle;\" transform=\"rotate(0, 144.381, 389.613)\" x=\"144.381\" y=\"389.613\">30</text>\n",
       "</g>\n",
       "<g clip-path=\"url(#clip7600)\">\n",
       "<text style=\"fill:#000000; fill-opacity:1; font-family:Arial,Helvetica Neue,Helvetica,sans-serif; font-size:12; text-anchor:middle;\" transform=\"rotate(0, 289.45, 389.613)\" x=\"289.45\" y=\"389.613\">40</text>\n",
       "</g>\n",
       "<g clip-path=\"url(#clip7600)\">\n",
       "<text style=\"fill:#000000; fill-opacity:1; font-family:Arial,Helvetica Neue,Helvetica,sans-serif; font-size:12; text-anchor:middle;\" transform=\"rotate(0, 434.52, 389.613)\" x=\"434.52\" y=\"389.613\">50</text>\n",
       "</g>\n",
       "<g clip-path=\"url(#clip7600)\">\n",
       "<text style=\"fill:#000000; fill-opacity:1; font-family:Arial,Helvetica Neue,Helvetica,sans-serif; font-size:12; text-anchor:middle;\" transform=\"rotate(0, 579.59, 389.613)\" x=\"579.59\" y=\"389.613\">60</text>\n",
       "</g>\n",
       "<g clip-path=\"url(#clip7600)\">\n",
       "<text style=\"fill:#000000; fill-opacity:1; font-family:Arial,Helvetica Neue,Helvetica,sans-serif; font-size:12; text-anchor:end;\" transform=\"rotate(0, 36.1066, 371.638)\" x=\"36.1066\" y=\"371.638\">400</text>\n",
       "</g>\n",
       "<g clip-path=\"url(#clip7600)\">\n",
       "<text style=\"fill:#000000; fill-opacity:1; font-family:Arial,Helvetica Neue,Helvetica,sans-serif; font-size:12; text-anchor:end;\" transform=\"rotate(0, 36.1066, 300.326)\" x=\"36.1066\" y=\"300.326\">600</text>\n",
       "</g>\n",
       "<g clip-path=\"url(#clip7600)\">\n",
       "<text style=\"fill:#000000; fill-opacity:1; font-family:Arial,Helvetica Neue,Helvetica,sans-serif; font-size:12; text-anchor:end;\" transform=\"rotate(0, 36.1066, 229.014)\" x=\"36.1066\" y=\"229.014\">800</text>\n",
       "</g>\n",
       "<g clip-path=\"url(#clip7600)\">\n",
       "<text style=\"fill:#000000; fill-opacity:1; font-family:Arial,Helvetica Neue,Helvetica,sans-serif; font-size:12; text-anchor:end;\" transform=\"rotate(0, 36.1066, 157.701)\" x=\"36.1066\" y=\"157.701\">1000</text>\n",
       "</g>\n",
       "<g clip-path=\"url(#clip7600)\">\n",
       "<text style=\"fill:#000000; fill-opacity:1; font-family:Arial,Helvetica Neue,Helvetica,sans-serif; font-size:12; text-anchor:end;\" transform=\"rotate(0, 36.1066, 86.3889)\" x=\"36.1066\" y=\"86.3889\">1200</text>\n",
       "</g>\n",
       "<g clip-path=\"url(#clip7600)\">\n",
       "<text style=\"fill:#000000; fill-opacity:1; font-family:Arial,Helvetica Neue,Helvetica,sans-serif; font-size:21; text-anchor:middle;\" transform=\"rotate(0, 311.211, 18)\" x=\"311.211\" y=\"18\">Chap4-5 Salary Data</text>\n",
       "</g>\n",
       "<circle clip-path=\"url(#clip7602)\" style=\"fill:#000000; stroke:none; fill-opacity:1\" cx=\"57.3389\" cy=\"341.466\" r=\"4\"/>\n",
       "<circle clip-path=\"url(#clip7602)\" style=\"fill:#009af9; stroke:none; fill-opacity:1\" cx=\"57.3389\" cy=\"341.466\" r=\"3\"/>\n",
       "<circle clip-path=\"url(#clip7602)\" style=\"fill:#000000; stroke:none; fill-opacity:1\" cx=\"57.3389\" cy=\"366.069\" r=\"4\"/>\n",
       "<circle clip-path=\"url(#clip7602)\" style=\"fill:#009af9; stroke:none; fill-opacity:1\" cx=\"57.3389\" cy=\"366.069\" r=\"3\"/>\n",
       "<circle clip-path=\"url(#clip7602)\" style=\"fill:#000000; stroke:none; fill-opacity:1\" cx=\"86.3528\" cy=\"347.884\" r=\"4\"/>\n",
       "<circle clip-path=\"url(#clip7602)\" style=\"fill:#009af9; stroke:none; fill-opacity:1\" cx=\"86.3528\" cy=\"347.884\" r=\"3\"/>\n",
       "<circle clip-path=\"url(#clip7602)\" style=\"fill:#000000; stroke:none; fill-opacity:1\" cx=\"173.395\" cy=\"304.74\" r=\"4\"/>\n",
       "<circle clip-path=\"url(#clip7602)\" style=\"fill:#009af9; stroke:none; fill-opacity:1\" cx=\"173.395\" cy=\"304.74\" r=\"3\"/>\n",
       "<circle clip-path=\"url(#clip7602)\" style=\"fill:#000000; stroke:none; fill-opacity:1\" cx=\"187.902\" cy=\"315.08\" r=\"4\"/>\n",
       "<circle clip-path=\"url(#clip7602)\" style=\"fill:#009af9; stroke:none; fill-opacity:1\" cx=\"187.902\" cy=\"315.08\" r=\"3\"/>\n",
       "<circle clip-path=\"url(#clip7602)\" style=\"fill:#000000; stroke:none; fill-opacity:1\" cx=\"216.915\" cy=\"231.288\" r=\"4\"/>\n",
       "<circle clip-path=\"url(#clip7602)\" style=\"fill:#009af9; stroke:none; fill-opacity:1\" cx=\"216.915\" cy=\"231.288\" r=\"3\"/>\n",
       "<circle clip-path=\"url(#clip7602)\" style=\"fill:#000000; stroke:none; fill-opacity:1\" cx=\"260.436\" cy=\"242.342\" r=\"4\"/>\n",
       "<circle clip-path=\"url(#clip7602)\" style=\"fill:#009af9; stroke:none; fill-opacity:1\" cx=\"260.436\" cy=\"242.342\" r=\"3\"/>\n",
       "<circle clip-path=\"url(#clip7602)\" style=\"fill:#000000; stroke:none; fill-opacity:1\" cx=\"289.45\" cy=\"295.469\" r=\"4\"/>\n",
       "<circle clip-path=\"url(#clip7602)\" style=\"fill:#009af9; stroke:none; fill-opacity:1\" cx=\"289.45\" cy=\"295.469\" r=\"3\"/>\n",
       "<circle clip-path=\"url(#clip7602)\" style=\"fill:#000000; stroke:none; fill-opacity:1\" cx=\"289.45\" cy=\"219.522\" r=\"4\"/>\n",
       "<circle clip-path=\"url(#clip7602)\" style=\"fill:#009af9; stroke:none; fill-opacity:1\" cx=\"289.45\" cy=\"219.522\" r=\"3\"/>\n",
       "<circle clip-path=\"url(#clip7602)\" style=\"fill:#000000; stroke:none; fill-opacity:1\" cx=\"332.971\" cy=\"227.366\" r=\"4\"/>\n",
       "<circle clip-path=\"url(#clip7602)\" style=\"fill:#009af9; stroke:none; fill-opacity:1\" cx=\"332.971\" cy=\"227.366\" r=\"3\"/>\n",
       "<circle clip-path=\"url(#clip7602)\" style=\"fill:#000000; stroke:none; fill-opacity:1\" cx=\"332.971\" cy=\"244.125\" r=\"4\"/>\n",
       "<circle clip-path=\"url(#clip7602)\" style=\"fill:#009af9; stroke:none; fill-opacity:1\" cx=\"332.971\" cy=\"244.125\" r=\"3\"/>\n",
       "<circle clip-path=\"url(#clip7602)\" style=\"fill:#000000; stroke:none; fill-opacity:1\" cx=\"347.478\" cy=\"211.321\" r=\"4\"/>\n",
       "<circle clip-path=\"url(#clip7602)\" style=\"fill:#009af9; stroke:none; fill-opacity:1\" cx=\"347.478\" cy=\"211.321\" r=\"3\"/>\n",
       "<circle clip-path=\"url(#clip7602)\" style=\"fill:#000000; stroke:none; fill-opacity:1\" cx=\"405.506\" cy=\"200.267\" r=\"4\"/>\n",
       "<circle clip-path=\"url(#clip7602)\" style=\"fill:#009af9; stroke:none; fill-opacity:1\" cx=\"405.506\" cy=\"200.267\" r=\"3\"/>\n",
       "<circle clip-path=\"url(#clip7602)\" style=\"fill:#000000; stroke:none; fill-opacity:1\" cx=\"463.534\" cy=\"157.48\" r=\"4\"/>\n",
       "<circle clip-path=\"url(#clip7602)\" style=\"fill:#009af9; stroke:none; fill-opacity:1\" cx=\"463.534\" cy=\"157.48\" r=\"3\"/>\n",
       "<circle clip-path=\"url(#clip7602)\" style=\"fill:#000000; stroke:none; fill-opacity:1\" cx=\"521.562\" cy=\"120.398\" r=\"4\"/>\n",
       "<circle clip-path=\"url(#clip7602)\" style=\"fill:#009af9; stroke:none; fill-opacity:1\" cx=\"521.562\" cy=\"120.398\" r=\"3\"/>\n",
       "<circle clip-path=\"url(#clip7602)\" style=\"fill:#000000; stroke:none; fill-opacity:1\" cx=\"521.562\" cy=\"150.705\" r=\"4\"/>\n",
       "<circle clip-path=\"url(#clip7602)\" style=\"fill:#009af9; stroke:none; fill-opacity:1\" cx=\"521.562\" cy=\"150.705\" r=\"3\"/>\n",
       "<circle clip-path=\"url(#clip7602)\" style=\"fill:#000000; stroke:none; fill-opacity:1\" cx=\"536.069\" cy=\"70.1224\" r=\"4\"/>\n",
       "<circle clip-path=\"url(#clip7602)\" style=\"fill:#009af9; stroke:none; fill-opacity:1\" cx=\"536.069\" cy=\"70.1224\" r=\"3\"/>\n",
       "<circle clip-path=\"url(#clip7602)\" style=\"fill:#000000; stroke:none; fill-opacity:1\" cx=\"550.576\" cy=\"81.1758\" r=\"4\"/>\n",
       "<circle clip-path=\"url(#clip7602)\" style=\"fill:#009af9; stroke:none; fill-opacity:1\" cx=\"550.576\" cy=\"81.1758\" r=\"3\"/>\n",
       "<circle clip-path=\"url(#clip7602)\" style=\"fill:#000000; stroke:none; fill-opacity:1\" cx=\"565.083\" cy=\"109.344\" r=\"4\"/>\n",
       "<circle clip-path=\"url(#clip7602)\" style=\"fill:#009af9; stroke:none; fill-opacity:1\" cx=\"565.083\" cy=\"109.344\" r=\"3\"/>\n",
       "<circle clip-path=\"url(#clip7602)\" style=\"fill:#000000; stroke:none; fill-opacity:1\" cx=\"565.083\" cy=\"41.2409\" r=\"4\"/>\n",
       "<circle clip-path=\"url(#clip7602)\" style=\"fill:#009af9; stroke:none; fill-opacity:1\" cx=\"565.083\" cy=\"41.2409\" r=\"3\"/>\n",
       "<polygon clip-path=\"url(#clip7600)\" points=\"\n",
       "489.799,82.6161 562.315,82.6161 562.315,52.3761 489.799,52.3761 \n",
       "  \" fill=\"#ffffff\" fill-opacity=\"1\"/>\n",
       "<polyline clip-path=\"url(#clip7600)\" style=\"stroke:#000000; stroke-width:1; stroke-opacity:1; fill:none\" points=\"\n",
       "  489.799,82.6161 562.315,82.6161 562.315,52.3761 489.799,52.3761 489.799,82.6161 \n",
       "  \"/>\n",
       "<circle clip-path=\"url(#clip7600)\" style=\"fill:#000000; stroke:none; fill-opacity:1\" cx=\"516.799\" cy=\"67.4961\" r=\"6\"/>\n",
       "<circle clip-path=\"url(#clip7600)\" style=\"fill:#009af9; stroke:none; fill-opacity:1\" cx=\"516.799\" cy=\"67.4961\" r=\"5\"/>\n",
       "<g clip-path=\"url(#clip7600)\">\n",
       "<text style=\"fill:#000000; fill-opacity:1; font-family:Arial,Helvetica Neue,Helvetica,sans-serif; font-size:12; text-anchor:start;\" transform=\"rotate(0, 537.799, 71.9961)\" x=\"537.799\" y=\"71.9961\">y1</text>\n",
       "</g>\n",
       "</svg>\n"
      ]
     },
     "execution_count": 1,
     "metadata": {},
     "output_type": "execute_result"
    }
   ],
   "source": [
    "using Plots\n",
    "using Distributions\n",
    "gr()\n",
    "\n",
    "# アヒル本4章のデータ\n",
    "x=Real[ 24, 24, 26, 32, 33, 35, 38, 40, 40, 43, 43, 44, 48, 52,  56,  56,  57,  58,  59,  59]\n",
    "y=Real[472,403,454,575,546,781,750,601,814,792,745,837,868,988,1092,1007,1233,1202,1123,1314]\n",
    "\n",
    "# Plot\n",
    "plot(x,y,seriestype=:scatter,title=\"Chap4-5 Salary Data\")"
   ]
  },
  {
   "cell_type": "code",
   "execution_count": 2,
   "metadata": {
    "collapsed": false
   },
   "outputs": [
    {
     "data": {
      "text/plain": [
       "proposal (generic function with 1 method)"
      ]
     },
     "execution_count": 2,
     "metadata": {},
     "output_type": "execute_result"
    }
   ],
   "source": [
    "function likehood(a, b, sigma)\n",
    "    y_pred = a + b*x\n",
    "    likehoods = [logpdf(Normal(aa, sigma), bb) for (aa,bb) in zip(y_pred,y)]\n",
    "    l_sum = sum(likehoods)\n",
    "    return l_sum\n",
    "end\n",
    "\n",
    "function prior(a, b, sigma)\n",
    "    a_prior     = logpdf(Normal(0, 100),a)\n",
    "    b_prior     = logpdf(Normal(0, 100),b)\n",
    "    sigma_prior = logpdf(Uniform(0,1000),sigma)\n",
    "    return a_prior + b_prior + sigma_prior\n",
    "end\n",
    "\n",
    "function posterior(a, b, sigma)\n",
    "    return(likehood(a, b, sigma) + prior(a, b, sigma))\n",
    "end\n",
    "\n",
    "function proposal(a, b, sigma)\n",
    "    return [rand(Normal(mu, sd)) for (mu, sd) in zip([a, b, sigma],[0.1, 0.1, 0.1])]\n",
    "end"
   ]
  },
  {
   "cell_type": "code",
   "execution_count": 10,
   "metadata": {
    "collapsed": false
   },
   "outputs": [
    {
     "name": "stdout",
     "output_type": "stream",
     "text": [
      "MCMC complete\n"
     ]
    }
   ],
   "source": [
    "#MH法\n",
    "# a, b, sigmaの初期値; Chain 1つ分\n",
    "Init = Real[-100, 1, 1] \n",
    "Iteration = 200000\n",
    "BurnIn    =  90000\n",
    "chain = Array[Init]\n",
    "\n",
    "for i in 1:Iteration\n",
    "    proposal_draw   = proposal(chain[i][1], chain[i][2], chain[i][3])\n",
    "    \n",
    "    tmp1 = posterior(proposal_draw[1],proposal_draw[2],proposal_draw[3])\n",
    "    tmp2 = posterior(chain[i][1], chain[i][2], chain[i][3])\n",
    "    alpha = min(1,exp(tmp1-tmp2))\n",
    "    \n",
    "    u = rand(Uniform(0,1))\n",
    "\n",
    "    if u < alpha\n",
    "        push!(chain,proposal_draw)\n",
    "    else\n",
    "        push!(chain,chain[i])\n",
    "    end\n",
    "end\n",
    "\n",
    "# BurnInは除外\n",
    "chain = chain[BurnIn+1:end]\n",
    "\n",
    "# 結果の取り出し\n",
    "a = [chain[i][1] for i in 1:length(chain)]\n",
    "b = [chain[i][2] for i in 1:length(chain)]\n",
    "sigma = [chain[i][3] for i in 1:length(chain)]\n",
    "\n",
    "println(\"MCMC complete\")"
   ]
  },
  {
   "cell_type": "code",
   "execution_count": 11,
   "metadata": {
    "collapsed": false
   },
   "outputs": [
    {
     "data": {
      "text/plain": [
       "(-70.13509646340123, 20.862066462389677, 85.25946648157439)"
      ]
     },
     "execution_count": 11,
     "metadata": {},
     "output_type": "execute_result"
    }
   ],
   "source": [
    "mean(a),mean(b),mean(sigma)"
   ]
  },
  {
   "cell_type": "code",
   "execution_count": null,
   "metadata": {
    "collapsed": true
   },
   "outputs": [],
   "source": []
  }
 ],
 "metadata": {
  "kernelspec": {
   "display_name": "Julia 0.6.1",
   "language": "julia",
   "name": "julia-0.6"
  },
  "language_info": {
   "file_extension": ".jl",
   "mimetype": "application/julia",
   "name": "julia",
   "version": "0.6.1"
  }
 },
 "nbformat": 4,
 "nbformat_minor": 2
}
